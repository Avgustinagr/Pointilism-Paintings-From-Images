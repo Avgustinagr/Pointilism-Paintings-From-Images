{
 "cells": [
  {
   "cell_type": "code",
   "execution_count": 3,
   "id": "91abdbdb-a148-4d70-8602-f079dd82c4c8",
   "metadata": {},
   "outputs": [],
   "source": [
    "import numpy as np"
   ]
  },
  {
   "cell_type": "code",
   "execution_count": 29,
   "id": "91a68058-52fc-49f2-a17f-2144ff62dc55",
   "metadata": {},
   "outputs": [
    {
     "data": {
      "text/plain": [
       "array([2., 2., 1.])"
      ]
     },
     "execution_count": 29,
     "metadata": {},
     "output_type": "execute_result"
    }
   ],
   "source": [
    "t = np.array([[2, 2, -1], [1, 1, 1], [3, 3, 3]])\n",
    "t.mean(axis=0)"
   ]
  },
  {
   "cell_type": "code",
   "execution_count": 24,
   "id": "a378c03b-3972-48cb-94dc-d5a2073a884f",
   "metadata": {},
   "outputs": [
    {
     "data": {
      "text/plain": [
       "array([False, False,  True])"
      ]
     },
     "execution_count": 24,
     "metadata": {},
     "output_type": "execute_result"
    }
   ],
   "source": [
    "v = np.array([1, 2, np.nan])\n",
    "np.isnan(v)"
   ]
  },
  {
   "cell_type": "code",
   "execution_count": 32,
   "id": "c6c7de44-8eee-43f4-a124-5d979406af25",
   "metadata": {},
   "outputs": [
    {
     "data": {
      "text/plain": [
       "-1"
      ]
     },
     "execution_count": 32,
     "metadata": {},
     "output_type": "execute_result"
    }
   ],
   "source": [
    "np.min(t)"
   ]
  },
  {
   "cell_type": "code",
   "execution_count": 33,
   "id": "b35af678-eeb3-463a-b6b8-c876604735a5",
   "metadata": {},
   "outputs": [
    {
     "data": {
      "text/plain": [
       "array([ 1,  1, -1])"
      ]
     },
     "execution_count": 33,
     "metadata": {},
     "output_type": "execute_result"
    }
   ],
   "source": [
    "np.min(t, axis = 0) "
   ]
  },
  {
   "cell_type": "code",
   "execution_count": 34,
   "id": "9e59f0b4-a430-4ad8-8610-af3b05cdfc75",
   "metadata": {},
   "outputs": [
    {
     "data": {
      "text/plain": [
       "array([-1,  1,  3])"
      ]
     },
     "execution_count": 34,
     "metadata": {},
     "output_type": "execute_result"
    }
   ],
   "source": [
    "np.min(t, axis = 1) "
   ]
  },
  {
   "cell_type": "code",
   "execution_count": 42,
   "id": "302b4d86-9175-415b-805c-0f0beca2fb5d",
   "metadata": {},
   "outputs": [
    {
     "data": {
      "text/plain": [
       "array([[4, 4, 4],\n",
       "       [1, 1, 0]])"
      ]
     },
     "execution_count": 42,
     "metadata": {},
     "output_type": "execute_result"
    }
   ],
   "source": [
    "pt = np.array([3, 3, 3])\n",
    "centr = np.array([[1, 1, 1], [2, 2, 3]])\n",
    "(pt - centr) ** 2"
   ]
  }
 ],
 "metadata": {
  "kernelspec": {
   "display_name": "Python 3 (ipykernel)",
   "language": "python",
   "name": "python3"
  },
  "language_info": {
   "codemirror_mode": {
    "name": "ipython",
    "version": 3
   },
   "file_extension": ".py",
   "mimetype": "text/x-python",
   "name": "python",
   "nbconvert_exporter": "python",
   "pygments_lexer": "ipython3",
   "version": "3.8.10"
  }
 },
 "nbformat": 4,
 "nbformat_minor": 5
}
